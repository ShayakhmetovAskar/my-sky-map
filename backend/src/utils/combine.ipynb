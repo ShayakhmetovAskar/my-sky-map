{
 "cells": [
  {
   "cell_type": "code",
   "id": "initial_id",
   "metadata": {
    "collapsed": true,
    "jupyter": {
     "is_executing": true
    }
   },
   "source": "import pandas as pd",
   "outputs": [],
   "execution_count": null
  },
  {
   "metadata": {},
   "cell_type": "code",
   "source": [
    "gaiadr3 = pd.read_csv('./data/gaia.csv')\n",
    "hipparcos2 = pd.read_csv('./data/hip.csv')\n",
    "crossmatch = pd.read_csv('./data/crossmatch.csv')"
   ],
   "id": "d903a716e1791f7e",
   "outputs": [],
   "execution_count": null
  },
  {
   "metadata": {},
   "cell_type": "code",
   "source": "hipparcos2_filtered = hipparcos2[~hipparcos2['hip'].isin(crossmatch['original_ext_source_id'])]",
   "id": "68ec763bfafc9e74",
   "outputs": [],
   "execution_count": null
  },
  {
   "metadata": {},
   "cell_type": "code",
   "source": "combined = pd.DataFrame(columns=['hip', 'source_id', 'ra', 'de', 'phot_g_mean_mag', 'phot_rp_mean_mag', 'phot_bp_mean_mag', 'plx'])",
   "id": "490bbaa264c76ea1",
   "outputs": [],
   "execution_count": null
  },
  {
   "metadata": {},
   "cell_type": "code",
   "source": [
    "rows = []\n",
    "\n",
    "for row in hipparcos2_filtered.itertuples():\n",
    "    if any([pd.isna(row.ra), pd.isna(row.de), pd.isna(row.vmag)]):\n",
    "        continue\n",
    "    rows.append([row.hip, -1, row.ra, row.de, row.vmag, row.vtmag, row.btmag, row.plx])\n",
    "new_rows_df = pd.DataFrame(rows, columns=['hip', 'source_id', 'ra', 'de', 'phot_g_mean_mag', 'phot_rp_mean_mag', 'phot_bp_mean_mag', 'plx'])\n",
    "combined = pd.concat([combined, new_rows_df], ignore_index=True)"
   ],
   "id": "130651b33894a0a6",
   "outputs": [],
   "execution_count": null
  },
  {
   "metadata": {},
   "cell_type": "code",
   "source": [
    "rows = []\n",
    "\n",
    "for row in gaiadr3.itertuples():\n",
    "    if any([pd.isna(row.ra), pd.isna(row.dec), pd.isna(row.phot_g_mean_mag)]):\n",
    "        continue\n",
    "    rows.append([-1, row.source_id, row.ra, row.dec, row.phot_g_mean_mag, row.phot_rp_mean_mag, row.phot_bp_mean_mag, row.parallax])\n",
    "\n",
    "new_rows_df = pd.DataFrame(rows, columns=['hip', 'source_id', 'ra', 'de', 'phot_g_mean_mag', 'phot_rp_mean_mag', 'phot_bp_mean_mag', 'plx'])\n",
    "\n",
    "combined = pd.concat([combined, new_rows_df], ignore_index=True)\n"
   ],
   "id": "2b25025092cae0df",
   "outputs": [],
   "execution_count": null
  },
  {
   "metadata": {},
   "cell_type": "code",
   "source": "combined.to_csv('./data/combined.csv', index=False)",
   "id": "856224fefb1303d1",
   "outputs": [],
   "execution_count": null
  }
 ],
 "metadata": {
  "kernelspec": {
   "display_name": "venv",
   "language": "python",
   "name": "venv"
  },
  "language_info": {
   "codemirror_mode": {
    "name": "ipython",
    "version": 2
   },
   "file_extension": ".py",
   "mimetype": "text/x-python",
   "name": "python",
   "nbconvert_exporter": "python",
   "pygments_lexer": "ipython2",
   "version": "2.7.6"
  }
 },
 "nbformat": 4,
 "nbformat_minor": 5
}
